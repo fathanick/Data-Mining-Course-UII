{
 "cells": [
  {
   "cell_type": "code",
   "execution_count": 12,
   "metadata": {
    "collapsed": true
   },
   "outputs": [],
   "source": [
    "#source: http://stackabuse.com/k-nearest-neighbors-algorithm-in-python-and-scikit-learn/\n",
    "import pandas as pd\n",
    "\n",
    "dataset = pd.read_excel(\"dataset-knn.xlsx\")"
   ]
  },
  {
   "cell_type": "code",
   "execution_count": 13,
   "metadata": {},
   "outputs": [
    {
     "name": "stdout",
     "output_type": "stream",
     "text": [
      "[[8 7]\n",
      " [7 7]\n",
      " [7 6]\n",
      " [5 5]\n",
      " [4 4]\n",
      " [3 4]\n",
      " [1 4]\n",
      " [1 3]]\n",
      "['Bad' 'Bad' 'Bad' 'Good' 'Good' 'Bad' 'Good' 'Good']\n"
     ]
    }
   ],
   "source": [
    "#Preprocessing\n",
    "x = dataset.iloc[:, :-1].values  \n",
    "y = dataset.iloc[:, 2].values \n",
    "print(x)\n",
    "print(y)"
   ]
  }
 ],
 "metadata": {
  "kernelspec": {
   "display_name": "Python 3",
   "language": "python",
   "name": "python3"
  },
  "language_info": {
   "codemirror_mode": {
    "name": "ipython",
    "version": 3
   },
   "file_extension": ".py",
   "mimetype": "text/x-python",
   "name": "python",
   "nbconvert_exporter": "python",
   "pygments_lexer": "ipython3",
   "version": "3.6.3"
  }
 },
 "nbformat": 4,
 "nbformat_minor": 2
}
