{
 "cells": [
  {
   "cell_type": "code",
   "execution_count": 1,
   "metadata": {
    "collapsed": true
   },
   "outputs": [],
   "source": [
    "import pandas as pd"
   ]
  },
  {
   "cell_type": "code",
   "execution_count": 2,
   "metadata": {
    "collapsed": true
   },
   "outputs": [],
   "source": [
    "df = pd.read_excel(\"sample-pelanggan.xlsx\",\"Sheet1\")"
   ]
  },
  {
   "cell_type": "code",
   "execution_count": 3,
   "metadata": {},
   "outputs": [
    {
     "name": "stdout",
     "output_type": "stream",
     "text": [
      "  Nama  Pulsa  Internet\n",
      "0    A    100       200\n",
      "1    B    400       600\n",
      "2    C    100       100\n",
      "3    D    150       200\n",
      "4    E    700       400\n"
     ]
    }
   ],
   "source": [
    "print(df)"
   ]
  },
  {
   "cell_type": "code",
   "execution_count": 4,
   "metadata": {
    "collapsed": true
   },
   "outputs": [],
   "source": [
    "from scipy.spatial.distance import pdist, squareform"
   ]
  },
  {
   "cell_type": "code",
   "execution_count": 5,
   "metadata": {
    "collapsed": true
   },
   "outputs": [],
   "source": [
    "dist = pdist(df[['Pulsa', 'Internet']], 'euclidean') #mengghitung jarak dengan Euclidean"
   ]
  },
  {
   "cell_type": "code",
   "execution_count": 6,
   "metadata": {},
   "outputs": [
    {
     "name": "stdout",
     "output_type": "stream",
     "text": [
      "[ 500.          100.           50.          632.45553203  583.09518948\n",
      "  471.6990566   360.55512755  111.80339887  670.82039325  585.23499554]\n"
     ]
    }
   ],
   "source": [
    "print(dist)"
   ]
  },
  {
   "cell_type": "code",
   "execution_count": 7,
   "metadata": {
    "collapsed": true
   },
   "outputs": [],
   "source": [
    "df_dist = pd.DataFrame(squareform(dist))"
   ]
  },
  {
   "cell_type": "code",
   "execution_count": 8,
   "metadata": {},
   "outputs": [
    {
     "name": "stdout",
     "output_type": "stream",
     "text": [
      "            0           1           2           3           4\n",
      "0    0.000000  500.000000  100.000000   50.000000  632.455532\n",
      "1  500.000000    0.000000  583.095189  471.699057  360.555128\n",
      "2  100.000000  583.095189    0.000000  111.803399  670.820393\n",
      "3   50.000000  471.699057  111.803399    0.000000  585.234996\n",
      "4  632.455532  360.555128  670.820393  585.234996    0.000000\n"
     ]
    }
   ],
   "source": [
    "print(df_dist)"
   ]
  },
  {
   "cell_type": "code",
   "execution_count": 11,
   "metadata": {},
   "outputs": [
    {
     "name": "stdout",
     "output_type": "stream",
     "text": [
      "[ 700.  100.   50.  800.  800.  650.  500.  150.  900.  750.]\n"
     ]
    }
   ],
   "source": [
    "dist_manhattan = pdist(df[['Pulsa', 'Internet']], 'cityblock')\n",
    "print(dist_manhattan)"
   ]
  },
  {
   "cell_type": "code",
   "execution_count": 12,
   "metadata": {},
   "outputs": [
    {
     "name": "stdout",
     "output_type": "stream",
     "text": [
      "       0      1      2      3      4\n",
      "0    0.0  700.0  100.0   50.0  800.0\n",
      "1  700.0    0.0  800.0  650.0  500.0\n",
      "2  100.0  800.0    0.0  150.0  900.0\n",
      "3   50.0  650.0  150.0    0.0  750.0\n",
      "4  800.0  500.0  900.0  750.0    0.0\n"
     ]
    }
   ],
   "source": [
    "df_dist_man = pd.DataFrame(squareform(dist_manhattan))\n",
    "print(df_dist_man)"
   ]
  },
  {
   "cell_type": "code",
   "execution_count": null,
   "metadata": {
    "collapsed": true
   },
   "outputs": [],
   "source": []
  }
 ],
 "metadata": {
  "kernelspec": {
   "display_name": "Python 3",
   "language": "python",
   "name": "python3"
  },
  "language_info": {
   "codemirror_mode": {
    "name": "ipython",
    "version": 3
   },
   "file_extension": ".py",
   "mimetype": "text/x-python",
   "name": "python",
   "nbconvert_exporter": "python",
   "pygments_lexer": "ipython3",
   "version": "3.6.3"
  }
 },
 "nbformat": 4,
 "nbformat_minor": 2
}
